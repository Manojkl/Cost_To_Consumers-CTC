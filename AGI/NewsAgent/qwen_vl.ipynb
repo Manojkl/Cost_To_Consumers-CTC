{
 "cells": [
  {
   "cell_type": "code",
   "execution_count": 3,
   "id": "909ec873",
   "metadata": {},
   "outputs": [
    {
     "name": "stdout",
     "output_type": "stream",
     "text": [
      "This image appears to be a screenshot of a news article from a digital platform. Here is the extracted data:\n",
      "\n",
      "---\n",
      "\n",
      "**Title:**\n",
      "Monsoon Likely to Arrive in Kerala Early This Year\n",
      "\n",
      "**Image:**\n",
      "- A group of people standing under umbrellas, possibly in a rainy season setting.\n",
      "\n",
      "**Table:**\n",
      "| Year | Actual onset date | Forecast date | Entire country covered by |\n",
      "|------|-------------------|---------------|-----------------------------|\n",
      "| 2020 | Jun 1              | Jun 5         | Jun 26                       |\n",
      "| 2021 | Jun 3              | May 29        | Jun 13                       |\n",
      "| 2022 | May 27             | Jun 8         | Jun 21                       |\n",
      "| 2023 | Jun 5               | Jun 1         | Jun 26                       |\n",
      "| 2024 | Jun 1               | Jun 5         | Jun 26                       |\n",
      "\n",
      "**Text:**\n",
      "- **Met dept predicts monsoon onset may be five days ahead of its usual date**\n",
      "- **Pune: The southwest monsoon is likely to set over Kerala on May 15, which is five days ahead of the normal, the India Meteorological Department (IMD) said on Saturday.**\n",
      "- **The Southwest monsoon, which brings 70% of India's annual rainfall, is crucial for the agricultural sector and contributes about 20% to the gross value added in the country's economy.**\n",
      "- **The timing and distribution are also key as most of the kharif season's rainfall occurs during the first two months of the four-month rainy season.**\n",
      "- **The weather department said that the April 15 predicted that the 2025 monsoon rainfall would be about normal at 105% of the long-term average, which currently is 87 cm for India.**\n",
      "- **The forecast has a model error of four days, suggesting that the monsoon may arrive five days earlier or later, the IMD said in a statement.**\n",
      "- **The southwest monsoon usually sets in Kerala in June, with a standard deviation of about 7 days.**\n",
      "- **The monsoon moves northward, providing relief from scorching summer temperatures. It usually covers the entire country by early July.**\n",
      "- **The IMD has been issuing forecasts from 2005 for the date of monsoon onset over Kerala.**\n",
      "- **The historical forecasts of the date of monsoon arrival over Kerala were prone to be correct, except in 2015.**\n",
      "\n",
      "**Additional Article:**\n",
      "- **New Covid Data to Aid Parents' Case**\n",
      "  - **The new data from the country's official record of births and deaths that suggests undercounting of deaths during the pandemic has given a ray of hope to the parents of children who may have died due to the side effects of Covid vaccine.**\n",
      "  - **Teena Thacker reports.**\n",
      "\n",
      "---\n",
      "\n",
      "This is the extracted data from the image.\n"
     ]
    }
   ],
   "source": [
    "from openai import OpenAI\n",
    "\n",
    "client = OpenAI(\n",
    "  base_url=\"https://openrouter.ai/api/v1\",\n",
    "  api_key=\"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\",\n",
    ")\n",
    "\n",
    "completion = client.chat.completions.create(\n",
    "  extra_body={},\n",
    "  model=\"qwen/qwen2.5-vl-3b-instruct:free\",\n",
    "  messages=[\n",
    "    {\n",
    "      \"role\": \"user\",\n",
    "      \"content\": [\n",
    "        {\n",
    "          \"type\": \"text\",\n",
    "          \"text\": \"What is in this image? Get all the data.\"\n",
    "        },\n",
    "        {\n",
    "          \"type\": \"image_url\",\n",
    "          \"image_url\": {\n",
    "            \"url\": \"https://i.ibb.co/TBgGDm3N/Screenshot-2025-05-11-15-21-11-94-6f8f7a6a69f2aa2976412416ecb84f7a.jpg\"\n",
    "          }\n",
    "        }\n",
    "      ]\n",
    "    }\n",
    "  ]\n",
    ")\n",
    "print(completion.choices[0].message.content)"
   ]
  },
  {
   "cell_type": "markdown",
   "id": "b16fe87a",
   "metadata": {},
   "source": [
    "This image is a screenshot of a news article from a digital platform. The headline reads, \"Monsoon Likely to Arrive in Kerala Early This Year.\" The article discusses the prediction that the southwest monsoon, which brings 70% of India's annual rainfall, may arrive five days ahead of its usual date. The article mentions that the Met department predicts this, and it is likely to set over Kerala on May 15, which is earlier than the usual date. The article also notes that the forecast has a model error of four days, suggesting that the monsoon may arrive four days earlier or later. The article provides a table comparing the actual onset date, forecast date, and the entire country covered by the monsoon for the years 2020 to 2024. The article also mentions that the southwest monsoon usually sets in Kerala in June, with a standard deviation of about 7 days."
   ]
  },
  {
   "cell_type": "markdown",
   "id": "8698f972",
   "metadata": {},
   "source": []
  },
  {
   "cell_type": "markdown",
   "id": "1737640e",
   "metadata": {},
   "source": [
    "This image appears to be a screenshot of a news article from a digital platform. Here is the extracted data:\n",
    "\n",
    "---\n",
    "\n",
    "**Title:**\n",
    "Monsoon Likely to Arrive in Kerala Early This Year\n",
    "\n",
    "**Image:**\n",
    "- A group of people standing under umbrellas, possibly in a rainy season setting.\n",
    "\n",
    "**Table:**\n",
    "| Year | Actual onset date | Forecast date | Entire country covered by |\n",
    "|------|-------------------|---------------|-----------------------------|\n",
    "| 2020 | Jun 1              | Jun 5         | Jun 26                       |\n",
    "| 2021 | Jun 3              | May 29        | Jun 13                       |\n",
    "| 2022 | May 27             | Jun 8         | Jun 21                       |\n",
    "| 2023 | Jun 5               | Jun 1         | Jun 26                       |\n",
    "| 2024 | Jun 1               | Jun 5         | Jun 26                       |\n",
    "\n",
    "**Text:**\n",
    "- **Met dept predicts monsoon onset may be five days ahead of its usual date**\n",
    "- **Pune: The southwest monsoon is likely to set over Kerala on May 15, which is five days ahead of the normal, the India Meteorological Department (IMD) said on Saturday.**\n",
    "- **The Southwest monsoon, which brings 70% of India's annual rainfall, is crucial for the agricultural sector and contributes about 20% to the gross value added in the country's economy.**\n",
    "- **The timing and distribution are also key as most of the kharif season's rainfall occurs during the first two months of the four-month rainy season.**\n",
    "- **The weather department said that the April 15 predicted that the 2025 monsoon rainfall would be about normal at 105% of the long-term average, which currently is 87 cm for India.**\n",
    "- **The forecast has a model error of four days, suggesting that the monsoon may arrive five days earlier or later, the IMD said in a statement.**\n",
    "- **The southwest monsoon usually sets in Kerala in June, with a standard deviation of about 7 days.**\n",
    "- **The monsoon moves northward, providing relief from scorching summer temperatures. It usually covers the entire country by early July.**\n",
    "- **The IMD has been issuing forecasts from 2005 for the date of monsoon onset over Kerala.**\n",
    "- **The historical forecasts of the date of monsoon arrival over Kerala were prone to be correct, except in 2015.**\n",
    "\n",
    "**Additional Article:**\n",
    "- **New Covid Data to Aid Parents' Case**\n",
    "  - **The new data from the country's official record of births and deaths that suggests undercounting of deaths during the pandemic has given a ray of hope to the parents of children who may have died due to the side effects of Covid vaccine.**\n",
    "  - **Teena Thacker reports.**\n",
    "\n",
    "---\n",
    "\n",
    "This is the extracted data from the image."
   ]
  },
  {
   "cell_type": "markdown",
   "id": "8677f048",
   "metadata": {},
   "source": []
  }
 ],
 "metadata": {
  "kernelspec": {
   "display_name": "llm",
   "language": "python",
   "name": "python3"
  },
  "language_info": {
   "codemirror_mode": {
    "name": "ipython",
    "version": 3
   },
   "file_extension": ".py",
   "mimetype": "text/x-python",
   "name": "python",
   "nbconvert_exporter": "python",
   "pygments_lexer": "ipython3",
   "version": "3.12.2"
  }
 },
 "nbformat": 4,
 "nbformat_minor": 5
}
